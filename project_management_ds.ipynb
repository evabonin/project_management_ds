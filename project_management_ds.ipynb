{
 "cells": [
  {
   "cell_type": "code",
   "execution_count": null,
   "id": "26881380",
   "metadata": {},
   "outputs": [],
   "source": []
  },
  {
   "cell_type": "code",
   "execution_count": 21,
   "id": "cddbec0f",
   "metadata": {},
   "outputs": [],
   "source": [
    "import openai\n",
    "import os\n",
    "import pandas as pd\n",
    "import csv\n",
    "\n",
    "# Authenticate with the OpenAI API key [removed!]\n",
    "openai.api_key = \"sk-\""
   ]
  },
  {
   "cell_type": "code",
   "execution_count": 22,
   "id": "1bd74720",
   "metadata": {},
   "outputs": [],
   "source": [
    "# Define helper function to access API (from DeepLearning.AI learning platform course). Modified to separate promt and text to make the function more flexible.\n",
    "def get_completion(prompt, model=\"gpt-4\"):\n",
    "    messages = [{\"role\": \"user\", \"content\": prompt}]\n",
    "    response = openai.ChatCompletion.create(\n",
    "        model=model,\n",
    "        messages=messages,\n",
    "        temperature=0, # this is the degree of randomness of the model's output\n",
    "    )\n",
    "    return response.choices[0].message[\"content\"]"
   ]
  },
  {
   "cell_type": "markdown",
   "id": "2941c06f",
   "metadata": {},
   "source": [
    "# Summarising: Waterfall vs Agile approach\n",
    "From: https://www.atlassian.com/agile/project-management/project-management-intro"
   ]
  },
  {
   "cell_type": "code",
   "execution_count": 23,
   "id": "8ea188eb",
   "metadata": {},
   "outputs": [],
   "source": [
    "text1 = f\"\"\"\n",
    "\n",
    "\n",
    "Early adopters of agile development were often small, self-contained teams working on small, self-contained projects. They proved the agile model can work, to the joy and betterment of software makers around the world. It turned out the waterfall development model wasn't as effective for the development of software as agile project management was for most teams\n",
    "\n",
    "The popularity of agile project management has led to more organizations scaling agile beyond single teams or projects and applying it to whole programs. Agile has even spread beyond development teams to include IT, marketing, business development, and more.\n",
    "What is agile project management?\n",
    "\n",
    "Agile project management is an iterative approach to delivering a project, which focuses on continuous releases that incorporate customer feedback. The ability to adjust during each iteration promotes velocity and adaptability. This approach is different from a linear, waterfall project management approach, which follows a set path with limited deviation.\n",
    "\n",
    "With today’s customers and businesses requiring rapid responses and changes, agile provides the flexibility to adjust and iterate during the development process. Agile project management is also a cornerstone of DevOps practices, where development and operations teams work collaboratively.\n",
    "What is waterfall project management?\n",
    "\n",
    "The waterfall project management approach entails a clearly defined sequence of execution with project phases that do not advance until a phase receives final approval. Once a phase is completed, it can be difficult and costly to revisit a previous stage. Agile teams may follow a similar sequence yet do so in smaller increments with regular feedback loops. \n",
    "\n",
    "The waterfall project management approach follows a linear, sequential formula. It works well for work that has predictable, recurring processes, yet it can leave development teams flat-footed and unable to adjust faster than a competitor. \n",
    "\n",
    "A single missed deadline or scope change during a waterfall project can cause outsized impacts on subsequent releases. Additionally, when a team is fully focused on the next phase of work, resolving technical debt or fixing bugs can be painful if the team is fully allocated to new feature work and always pressing forward to the next stage.\n",
    "\n",
    "Below is an illustration of a standard waterfall project with rigidly segmented blocks of time. This creates a “use it or lose it” mentality that encourages developers, product owners, and stakeholders to request as much time as possible in each time window, since there may be no opportunity to iterate in the future. Typically teams using waterfall try to control scope creep through “change control”, where everyone agrees the original contract is not changed.\n",
    "Waterfall release example | Atlassian agile coach\n",
    "\n",
    "The waterfall model can exacerbate some of the known challenges of building products:\n",
    "\n",
    "    Blockers and dependency management: Traditional project management styles often create \"critical paths\", where the project can't move forward until a blocking issue is resolved.\n",
    "    Difficulty getting user feedback and product validation: To add insult to injury, the end customer can't interact with the product until it's fully complete. Thus, important issues in the product design and code go undiscovered until release.\n",
    "\n",
    "The advantages of waterfall\n",
    "\n",
    "    Requires less coordination due to clearly defined phases sequential processes\n",
    "    A clear project phase helps to clearly define dependencies of work.\n",
    "    The cost of the project can be estimated after the requirements are defined\n",
    "    Better focus on documentation of designs and requirements\n",
    "    The design phase is more methodical and structured before any software is written\n",
    "\n",
    "The disadvantages of waterfall\n",
    "\n",
    "    Harder to break up and share work because of stricter phase sequences teams are more specialized\n",
    "    Risk of time waste due to delays and setbacks during phase transitions\n",
    "    Additional hiring requirements to fulfill specialized phase teams whereas agile encourages more cross-functional team composition.\n",
    "    Extra communication overhead during handoff between phase transitions\n",
    "    Product ownership and engagement may not be as strong when compared to agile since the focus is brought to the current phase.\n",
    "\n",
    "Agile vs. waterfall\n",
    "\n",
    "Agile was first adopted by software teams, who moved from the traditional, sequential waterfall approach to a method that garnered consistent feedback and adjustment throughout the development lifecycle.\n",
    "\n",
    "Agile project management takes an iterative approach to development by creating several incremental steps with regular feedback intervals. This promotes adaptability since a team can adjust throughout the product development process, rather than being confined to a linear path. It also allows for regular, high-impact releases that enable teams to deliver a series of wins over time.\n",
    "\n",
    "Iterative releases unlock multiple opportunities for a team to:\n",
    "\n",
    "    adapt to changing circumstances from newly discovered requirements to a blocked piece of work.\n",
    "    gather feedback from stakeholders during the process and iterate responsively without the stress of a final delivery deadline.\n",
    "    build relationships and connections across roles that make it easier for people to connect and communicate effectively.\n",
    "\n",
    "Agile allows teams to be more resilient to changes that inevitably occur during a project.\n",
    "Agile project management example | Atlassian agile coach\n",
    "\n",
    "An even greater benefit is shared skill sets among the software team. The team's overlapping skill sets add flexibility to the work in all parts of the team's codebase. This way, work and time aren’t wasted if the project direction changes. (For more see our article on building great agile teams.)\n",
    "Agile principles\n",
    "\n",
    "    An agile project is segmented into several incremental steps that include regular feedback intervals.\n",
    "    A project requirement is segmented into smaller pieces, which are then prioritized by importance.\n",
    "    Promotes collaboration, especially with the customer. \n",
    "    Adjusts at regular intervals to ensure a customer’s needs are met\n",
    "    Integrates planning with execution, which allows a team to effectively respond to changing requirements  \n",
    "\n",
    "The advantages of agile project management\n",
    "\n",
    "    Faster feedback cycles\n",
    "    Identifies problems early\n",
    "    Higher potential for customer satisfaction\n",
    "    Time to market is dramatically improved\n",
    "    Better visibility / accountability\n",
    "    Dedicated teams drive better productivity over time\n",
    "    Flexible prioritization focused on value delivery\n",
    "\n",
    "The disadvantages of agile\n",
    "\n",
    "    Critical path and inter-project dependencies may not be clearly defined as in waterfall\n",
    "    There is an organizational learning curve cost\n",
    "    True agile execution with a continuous deployment pipeline has many technical dependencies and engineering costs to establish\n",
    "\n",
    "Elements to consider when moving to agile\n",
    "\n",
    "Moving to agile can be challenging, especially when a team or organization is rooted in a more traditional project management approach. Moving to agile practices may require a number of process changes, especially when adopting a DevOps approach, where development and operations teams work closely together to develop and maintain software. When adopting agile principles, a team and the stakeholders must embrace two important concepts:\n",
    "\n",
    "    The product owner's focus is to optimize the value of the team's output. The team relies on the product owner to prioritize the most important work first.\n",
    "    The development team can only accept work that it has the capacity for. The product owner doesn't push work to the team or commit them to arbitrary deadlines. The development team pulls work from the program's backlog as it can accept new work.\n",
    "\n",
    "Let's explore the mechanisms agile programs use to organize, run, and structure work in an iterative way.\n",
    "Roadmaps\n",
    "\n",
    "A product roadmap outlines how a product or solution develops over time. A roadmap in agile development provides important context that empowers teams to reach both incremental and project-wide goals. Roadmaps are composed of initiatives, which are large areas of functionality, and include timelines that communicate when a feature will be available. As the work proceeds and teams learn more, it's accepted that the roadmap will change to reflect that new information - possibly in subtle or broad ways. The goal is to keep the roadmap focused on current conditions that impact the project and long-term goals in order to effectively work with stakeholders and respond to the competitive landscape. \n",
    "\n",
    "The following is a simple roadmap for a product team, with initiatives in the boxes and timelines indicated by the milestone-markers in red. \n",
    "Agile roadmap | Atlassian agile coach\n",
    "Requirements\n",
    "\n",
    "Each initiative in the roadmap breaks down into a set of requirements. Agile requirements are lightweight descriptions of required functionality, rather than the 100-page documents associated with traditional projects. They evolve over time and capitalize on the team's shared understanding of the customer and the desired product. Agile requirements remain lean while everyone on the team develops a shared understanding via ongoing conversation and collaboration. Only when implementation is about to begin are they fleshed out with full details.\n",
    "Backlog\n",
    "\n",
    "The backlog sets the priorities for the agile program. The team includes all work items in the backlog: new features, bugs, enhancements, technical or architectural tasks, etc. The product owner prioritizes the work on the backlog for the engineering team. The development team then uses the prioritized backlog as its single source of truth for what work needs to be done.\n",
    "Agile metrics\n",
    "\n",
    "Agile teams thrive on metrics. Work in progress (WIP) limits keep the team, and the business, focused on delivering the highest priority work. Graphs like burndown charts and control charts help the team predict their delivery cadence, and continuous flow diagrams help identify bottlenecks. These metrics and artifacts keep everyone focused on the big goals and boost confidence in the team's ability to deliver future work. \n",
    "Agile runs on trust\n",
    "\n",
    "Agile processes cannot function without a high level of trust amongst team members and therefore create trust. It requires candor to have difficult conversations regarding what's right for the program and the product. Because conversations happen at regular intervals, ideas and concerns are regularly expressed. That means team members need to be confident in each other's ability (and willingness) to execute on the decisions made during those conversations.\n",
    "In conclusion…\n",
    "\n",
    "Agile project management is an innovative approach not only for software projects but for projects of all stripes. By providing the flexibility to respond to change during the development lifecycle, agile allows teams to ship higher quality products that meet customers’ needs. Agile empowers teams, builds accountability, and encourages innovation while promoting continuous improvement. Agile gives you the ability to respond to change without going off the rails. And that’s great for any program. \n",
    "\n",
    "Learn more about agile project management and check out our free project management template. Plus, dive into agile adoption with agile tools for software teams, and learn how to communicate the progress of work across teams.\n",
    "\n",
    "\"\"\""
   ]
  },
  {
   "cell_type": "code",
   "execution_count": 30,
   "id": "84b459a8",
   "metadata": {},
   "outputs": [],
   "source": [
    "prompt1 = f\"\"\"\n",
    "Here is some text delimited by triple backticks. \\\n",
    "Please follow the following steps: \n",
    "1. Summarise the advantages and disadvantages for the waterfall project management approach and the agile project management approach.\n",
    "2. Compare the two approaches on common aspects.\n",
    "3. Generate a table in .csv format comparing the waterfall project management approach and the agile project management approach.\n",
    "\n",
    "```{text1}```\n",
    "\"\"\""
   ]
  },
  {
   "cell_type": "code",
   "execution_count": 31,
   "id": "4f6e11fd",
   "metadata": {},
   "outputs": [],
   "source": [
    "response1 = get_completion(prompt1)"
   ]
  },
  {
   "cell_type": "code",
   "execution_count": 32,
   "id": "58761415",
   "metadata": {},
   "outputs": [
    {
     "name": "stdout",
     "output_type": "stream",
     "text": [
      "1. Summarise the advantages and disadvantages for the waterfall project management approach and the agile project management approach.\n",
      "\n",
      "Waterfall Project Management Advantages:\n",
      "- Less coordination due to clearly defined phases and sequential processes\n",
      "- Clear project phases help define dependencies of work\n",
      "- Cost of the project can be estimated after requirements are defined\n",
      "- Better focus on documentation of designs and requirements\n",
      "- More methodical and structured design phase before any software is written\n",
      "\n",
      "Waterfall Project Management Disadvantages:\n",
      "- Harder to break up and share work due to stricter phase sequences\n",
      "- Risk of time waste due to delays and setbacks during phase transitions\n",
      "- Additional hiring requirements for specialized phase teams\n",
      "- Extra communication overhead during handoff between phase transitions\n",
      "- Product ownership and engagement may not be as strong compared to agile\n",
      "\n",
      "Agile Project Management Advantages:\n",
      "- Faster feedback cycles\n",
      "- Identifies problems early\n",
      "- Higher potential for customer satisfaction\n",
      "- Time to market is dramatically improved\n",
      "- Better visibility and accountability\n",
      "- Dedicated teams drive better productivity over time\n",
      "- Flexible prioritization focused on value delivery\n",
      "\n",
      "Agile Project Management Disadvantages:\n",
      "- Critical path and inter-project dependencies may not be clearly defined as in waterfall\n",
      "- Organizational learning curve cost\n",
      "- True agile execution with a continuous deployment pipeline has many technical dependencies and engineering costs to establish\n",
      "\n",
      "2. Compare the two approaches on common aspects.\n",
      "\n",
      "Agile project management takes an iterative approach to development by creating several incremental steps with regular feedback intervals. This promotes adaptability since a team can adjust throughout the product development process, rather than being confined to a linear path. It also allows for regular, high-impact releases that enable teams to deliver a series of wins over time.\n",
      "\n",
      "On the other hand, the waterfall project management approach entails a clearly defined sequence of execution with project phases that do not advance until a phase receives final approval. Once a phase is completed, it can be difficult and costly to revisit a previous stage. Agile teams may follow a similar sequence yet do so in smaller increments with regular feedback loops.\n",
      "\n",
      "3. Generate a table in .csv format comparing the waterfall project management approach and the agile project management approach.\n",
      "\n",
      "```\n",
      "Aspect,Waterfall,Agile\n",
      "Coordination,Less coordination due to clearly defined phases,More coordination due to iterative approach\n",
      "Project Phases,Clearly defined and sequential,Incremental steps with regular feedback intervals\n",
      "Cost Estimation,After requirements are defined,Continuous adjustments throughout the project\n",
      "Documentation,Strong focus on documentation,Leaner documentation with ongoing conversation and collaboration\n",
      "Design Phase,Methodical and structured,Adaptive and flexible\n",
      "Feedback Cycles,Longer feedback cycles,Faster feedback cycles\n",
      "Problem Identification,Late in the project,Early in the project\n",
      "Customer Satisfaction,Lower potential,Higher potential\n",
      "Time to Market,Longer time to market,Shorter time to market\n",
      "Visibility and Accountability,Lower visibility and accountability,Higher visibility and accountability\n",
      "Team Productivity,Specialized phase teams,Dedicated cross-functional teams\n",
      "Prioritization,Fixed prioritization,Flexible prioritization focused on value delivery\n",
      "Dependencies,Clearly defined critical path and inter-project dependencies,Less clear dependencies\n",
      "Learning Curve,Lower learning curve,Higher learning curve\n",
      "Technical Dependencies and Engineering Costs,Lower technical dependencies and engineering costs,Higher technical dependencies and engineering costs to establish continuous deployment pipeline\n",
      "```\n"
     ]
    }
   ],
   "source": [
    "print(response1)"
   ]
  },
  {
   "cell_type": "markdown",
   "id": "9c388387",
   "metadata": {},
   "source": [
    "I then imported the csv into Excel and edited the content to create an exhibit (table) for my essay."
   ]
  },
  {
   "cell_type": "code",
   "execution_count": null,
   "id": "3cd00e54",
   "metadata": {},
   "outputs": [],
   "source": []
  },
  {
   "cell_type": "code",
   "execution_count": 33,
   "id": "209bbdf9",
   "metadata": {},
   "outputs": [],
   "source": [
    "text2 = f\"\"\"\n",
    "Aspect,Waterfall,Agile\n",
    "Coordination,Less coordination due to clearly defined phases,More coordination due to iterative approach\n",
    "Project Phases,Clearly defined and sequential,Incremental steps with regular feedback intervals\n",
    "Cost Estimation,After requirements are defined,Continuous adjustments throughout the project\n",
    "Documentation,Strong focus on documentation,Leaner documentation with ongoing conversation and collaboration\n",
    "Design Phase,Methodical and structured,Adaptive and flexible\n",
    "Feedback Cycles,Longer feedback cycles,Faster feedback cycles\n",
    "Problem Identification,Late in the project,Early in the project\n",
    "Customer Satisfaction,Lower potential,Higher potential\n",
    "Time to Market,Longer time to market,Shorter time to market\n",
    "Visibility and Accountability,Lower visibility and accountability,Higher visibility and accountability\n",
    "Team Productivity,Specialized phase teams,Dedicated cross-functional teams\n",
    "Prioritization,Fixed prioritization,Flexible prioritization focused on value delivery\n",
    "Dependencies,Clearly defined critical path and inter-project dependencies,Less clear dependencies\n",
    "Learning Curve,Lower learning curve,Higher learning curve\n",
    "Technical Dependencies and Engineering Costs,Lower technical dependencies and engineering costs,Higher technical dependencies and engineering costs to establish continuous deployment pipeline\n",
    "\"\"\""
   ]
  },
  {
   "cell_type": "code",
   "execution_count": 38,
   "id": "48173ff1",
   "metadata": {},
   "outputs": [],
   "source": [
    "prompt2 = f\"\"\"\n",
    "You are a senior management consultant with project management experience. \\\n",
    "You also have 10 years experience working in academia, leading research projects. \\\n",
    "Here is some text delimited by triple backticks. It is a table in csv format, with 3 columns. \\ \n",
    "It is a comparison between the Waterfall and Agile project management approaches. \\\n",
    "Please provide a text of 200 words explaining why: \\\n",
    "\n",
    "1. The waterfall approach dominates in academia. Talk specifically about how the incentive structure \\\n",
    "(rewards for publications, reputation) drives this.\n",
    "2. How agile project management approaches could help improve the social good produced by \\\n",
    "public funding for scientific research in academic institutions.\n",
    "\n",
    "```{text2}```\n",
    "\"\"\""
   ]
  },
  {
   "cell_type": "code",
   "execution_count": 39,
   "id": "f427b029",
   "metadata": {},
   "outputs": [],
   "source": [
    "response2 = get_completion(prompt2)"
   ]
  },
  {
   "cell_type": "code",
   "execution_count": 40,
   "id": "653b4c46",
   "metadata": {},
   "outputs": [
    {
     "name": "stdout",
     "output_type": "stream",
     "text": [
      "The Waterfall approach dominates in academia primarily due to the incentive structure that rewards publications and the economy of reputation. In academic research, the focus is often on producing high-quality, publishable results that contribute to an individual's or institution's reputation. This aligns with the Waterfall approach, which emphasizes methodical and structured design phases, strong documentation, and clearly defined project phases. The longer feedback cycles and fixed prioritization in Waterfall projects allow researchers to focus on producing comprehensive, well-documented findings that can be published in reputable journals. This, in turn, helps them secure funding, promotions, and recognition within their field.\n",
      "\n",
      "However, adopting Agile project management approaches could significantly improve the social good produced by public funding for scientific research in academic institutions. Agile methodologies prioritize incremental steps, regular feedback intervals, and continuous adjustments to project scope and cost estimation. This allows researchers to identify and address problems early in the project, leading to higher customer satisfaction and shorter time to market for research findings. Additionally, Agile's emphasis on collaboration, visibility, and accountability can lead to more efficient use of public funds and increased trust in the research process.\n",
      "\n",
      "By incorporating Agile principles into academic research, institutions can better align their projects with the needs of society and ensure that public funding is used effectively to address pressing issues. This shift in project management approach could ultimately lead to more impactful research outcomes and a greater return on investment for public funding in academia.\n"
     ]
    }
   ],
   "source": [
    "print(response2)"
   ]
  },
  {
   "cell_type": "markdown",
   "id": "6136426e",
   "metadata": {},
   "source": [
    "I then took this text and edited it to reflect my thoughts more accurately. I drafted my essay, which was over the word limit. I then used GPT to summarise my text (see below)."
   ]
  },
  {
   "cell_type": "code",
   "execution_count": 47,
   "id": "852b1d04",
   "metadata": {},
   "outputs": [
    {
     "data": {
      "text/plain": [
       "242"
      ]
     },
     "execution_count": 47,
     "metadata": {},
     "output_type": "execute_result"
    }
   ],
   "source": [
    "len(response2.split())"
   ]
  },
  {
   "cell_type": "code",
   "execution_count": 41,
   "id": "b5e22f60",
   "metadata": {},
   "outputs": [],
   "source": [
    "text3 = f\"\"\"\n",
    "I spent the last 15 years as a researcher in academia. Now, I’m looking to move into industry and one question I’m often confronted with during job interviews is whether I have experience with agile project management. The question is usually accompanied by raised eyebrows. Agile seems so rare in academia that the sector doesn’t even respond to surveys about it (Figure 1). But I think the issue is more subtle.\n",
    "The Waterfall approach dominates in academia due to an incentive structure that rewards building a personal reputation – it’s good to sit at the top of the waterfall. The method's clearly defined and sequential project phases, strong focus on documentation, and methodical design phase align well with an environment where thoroughness, rigor and replicability are highly valued. Additionally, the Waterfall approach's lower technical dependencies make it more accessible for researchers who may not have extensive project management experience (= most of them).\n",
    "On the other hand, agile methods have a lot to offer: Agile's iterative approach, with incremental steps and regular feedback intervals, allows for more adaptability and flexibility in research projects. This enables researchers to respond more effectively to new information or changing circumstances, ultimately leading to more relevant and impactful outcomes. Faster feedback cycles and early problem identification can help ensure that research projects are more closely aligned with the needs of society and stakeholders. This faster feedback may also mitigating concerns around failure and high risk funding, potentially enabling more funding to be made available for blue skies research. Agile project management approaches could therefore significantly improve the social good produced by public funding for scientific research in academic institutions. \n",
    "Areas where agile-type approaches are emerging in my field (health economics) include the explicit inclusion of stakeholders, particularly service users, to inform research questions, design and interpret findings, and closer cross-disciplinary collaboration where clinical findings inform the economic analysis. Research outside the lab always has to respond to unexpected events, which may require mitigation strategies. At the same time, the goal is to anticipate such events as much as possible and develop mitigation strategies beforehand. This requires a balance to be struck between the complexity of “real world” projects and risk tolerance of funders. It should also be pointed out that inclusion of all stakeholders is not always appropriate in academic research, e.g. funders need to be held at arm’s length to ensure independence. I would therefore argue that the prevailing model is one where agile approaches come in at different stages of the waterfall (Figure 2).\n",
    "\n",
    "\"\"\""
   ]
  },
  {
   "cell_type": "code",
   "execution_count": 42,
   "id": "25fa4698",
   "metadata": {},
   "outputs": [],
   "source": [
    "prompt3 = f\"\"\"\n",
    "Here is some text delimited by triple backticks. \\ \n",
    "Please shorten the text to 250 words, while retaining the style.\\\n",
    "\n",
    "```{text3}```\n",
    "\"\"\""
   ]
  },
  {
   "cell_type": "code",
   "execution_count": 43,
   "id": "58f641bf",
   "metadata": {},
   "outputs": [],
   "source": [
    "response3 = get_completion(prompt3)"
   ]
  },
  {
   "cell_type": "code",
   "execution_count": 44,
   "id": "19cf1be7",
   "metadata": {},
   "outputs": [
    {
     "name": "stdout",
     "output_type": "stream",
     "text": [
      "For the past 15 years, I've been an academic researcher, and now I'm transitioning to the industry. During job interviews, I'm often asked about my experience with agile project management, which seems uncommon in academia. However, I believe the situation is more nuanced.\n",
      "\n",
      "The Waterfall approach is prevalent in academia due to its emphasis on personal reputation, thoroughness, rigor, and replicability. Its clearly defined project phases and lower technical dependencies make it accessible for researchers with limited project management experience.\n",
      "\n",
      "On the other hand, agile methods offer adaptability and flexibility in research projects, allowing researchers to respond effectively to new information or changing circumstances. Faster feedback cycles and early problem identification can help align research projects with societal needs and stakeholders. Agile project management could significantly improve the social good produced by public funding for scientific research in academic institutions.\n",
      "\n",
      "In my field of health economics, agile-type approaches are emerging through the inclusion of stakeholders, particularly service users, and closer cross-disciplinary collaboration. Research outside the lab must respond to unexpected events and develop mitigation strategies, balancing the complexity of real-world projects and funders' risk tolerance. However, including all stakeholders may not always be appropriate in academic research, as funders need to maintain independence.\n",
      "\n",
      "In conclusion, agile approaches can be integrated at different stages of the Waterfall model in academia, offering valuable benefits for research projects and their outcomes.\n"
     ]
    }
   ],
   "source": [
    "print(response3)"
   ]
  },
  {
   "cell_type": "code",
   "execution_count": 46,
   "id": "fb4e3737",
   "metadata": {},
   "outputs": [
    {
     "data": {
      "text/plain": [
       "228"
      ]
     },
     "execution_count": 46,
     "metadata": {},
     "output_type": "execute_result"
    }
   ],
   "source": [
    "len(response3.split())"
   ]
  },
  {
   "cell_type": "markdown",
   "id": "00eef37c",
   "metadata": {},
   "source": [
    "I edited the above text and added a conclusion to my essay."
   ]
  }
 ],
 "metadata": {
  "kernelspec": {
   "display_name": "Python 3 (ipykernel)",
   "language": "python",
   "name": "python3"
  },
  "language_info": {
   "codemirror_mode": {
    "name": "ipython",
    "version": 3
   },
   "file_extension": ".py",
   "mimetype": "text/x-python",
   "name": "python",
   "nbconvert_exporter": "python",
   "pygments_lexer": "ipython3",
   "version": "3.11.3"
  }
 },
 "nbformat": 4,
 "nbformat_minor": 5
}
